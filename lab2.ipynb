{
 "cells": [
  {
   "attachments": {},
   "cell_type": "markdown",
   "metadata": {},
   "source": [
    "### Laboratorio 2"
   ]
  },
  {
   "cell_type": "code",
   "execution_count": 1,
   "metadata": {},
   "outputs": [],
   "source": [
    "import numpy as np\n",
    "import datetime\n",
    "import random"
   ]
  },
  {
   "attachments": {},
   "cell_type": "markdown",
   "metadata": {},
   "source": [
    "#### Ejercicio 1"
   ]
  },
  {
   "cell_type": "code",
   "execution_count": 2,
   "metadata": {},
   "outputs": [],
   "source": [
    "def tiempo(segundos:int):\n",
    "    try: \n",
    "        horas = segundos // 3600 # obtenemos el entero de la división, si es posible, en 3600 para las horas\n",
    "        segundos = segundos % 3600 # de lo contario, el módulo obtiene los segundos de nuevo . Si es posible obtenemos el módulo para calcular los segundos nuevamente\n",
    "        minutos = segundos // 60 # obtenemos el entero de la división, si es posible, en 60 para los minutos\n",
    "        segundos = segundos % 60 # de lo contrario, obtenemos los segundos.\n",
    "        print(f\"Horas: {horas}, Minutos: {minutos}, Segundos: {segundos}\")\n",
    "    except Exception as e:\n",
    "        print(f\"Ingrese un número válido\")"
   ]
  },
  {
   "cell_type": "code",
   "execution_count": 5,
   "metadata": {},
   "outputs": [
    {
     "name": "stdout",
     "output_type": "stream",
     "text": [
      "Horas: 1, Minutos: 26, Segundos: 0\n"
     ]
    }
   ],
   "source": [
    "tiempo(5160)"
   ]
  },
  {
   "attachments": {},
   "cell_type": "markdown",
   "metadata": {},
   "source": [
    "#### Ejercicio 2"
   ]
  },
  {
   "cell_type": "code",
   "execution_count": 28,
   "metadata": {},
   "outputs": [],
   "source": [
    "def triangulos(n:int,caracter:str):\n",
    "    t1 = '' # Definimos un espacio vacío para guardar los patrones\n",
    "    t2 = ''\n",
    "    t3 = ''\n",
    "    t4 = ''\n",
    "    try:\n",
    "        if (n>=1) & (n<=20): # Limitante\n",
    "            for i in range(n):\n",
    "                f = caracter*(i+1) # Patrón normal\n",
    "                t1 += f + '\\n' # l guardamos en el espacio vacío\n",
    "            print(t1)\n",
    "\n",
    "            for i in range(n):\n",
    "                f = caracter*(n-i) # Patrón eliminando un caracter por el lado izquierdo\n",
    "                t2 += i*(' ') + f + '\\n' # Agregamos espacio vaciós para correr los caracteres\n",
    "            print(t2)\n",
    "\n",
    "            for i in range(n): # Patrón eliminando un caracter por el lado derecho\n",
    "                f = caracter*(n-i)\n",
    "                t3 += f + '\\n'\n",
    "            print(t3)\n",
    "\n",
    "            for i in range(n):\n",
    "                f = caracter*(i+1) # Patrón agregando un caracter\n",
    "                t4 += (n-i)*(' ') + f + '\\n' # Agregamos espacios vacíos por el lado izquierdo\n",
    "            print(t4)\n",
    "        else:\n",
    "            print('Ingrese un número entre el 1 y el 20')\n",
    "\n",
    "    except Exception as e:\n",
    "        print('Ingresa un número entero y un caracter')\n"
   ]
  },
  {
   "cell_type": "code",
   "execution_count": 201,
   "metadata": {},
   "outputs": [
    {
     "name": "stdout",
     "output_type": "stream",
     "text": [
      "$\n",
      "$$\n",
      "$$$\n",
      "$$$$\n",
      "\n",
      "$$$$\n",
      " $$$\n",
      "  $$\n",
      "   $\n",
      "\n",
      "$$$$\n",
      "$$$\n",
      "$$\n",
      "$\n",
      "\n",
      "    $\n",
      "   $$\n",
      "  $$$\n",
      " $$$$\n",
      "\n"
     ]
    }
   ],
   "source": [
    "triangulos(4,'$')"
   ]
  },
  {
   "attachments": {},
   "cell_type": "markdown",
   "metadata": {},
   "source": [
    "#### Ejercicio 3"
   ]
  },
  {
   "cell_type": "code",
   "execution_count": 285,
   "metadata": {},
   "outputs": [],
   "source": [
    "def años(d,m,a):\n",
    "    try:\n",
    "        cumpleaños = datetime.date(a,m,d)\n",
    "\n",
    "        hoy = datetime.date.today() # Obtenemos la fecha actual\n",
    "\n",
    "        años, dias = divmod((hoy - cumpleaños).days, 365) #División para obtener el entero y módulo para años\n",
    "        meses, dias = divmod(dias, 30) #División para obtener el entero y módulo para meses\n",
    "        print(f'Años: {años}, Meses: {meses}, Días: {dias}')\n",
    "    except Exception as e:\n",
    "        print('Ingresa tu fecha de cumpleaños como d,m,a')"
   ]
  },
  {
   "cell_type": "code",
   "execution_count": 286,
   "metadata": {},
   "outputs": [
    {
     "name": "stdout",
     "output_type": "stream",
     "text": [
      "Años: 32, Meses: 9, Días: 1\n"
     ]
    }
   ],
   "source": [
    "años(5,7,1990)"
   ]
  },
  {
   "attachments": {},
   "cell_type": "markdown",
   "metadata": {},
   "source": [
    "#### Ejercicio 4"
   ]
  },
  {
   "cell_type": "code",
   "execution_count": 287,
   "metadata": {},
   "outputs": [],
   "source": [
    "def ejercicio4(tupla):\n",
    "        salida = '' \n",
    "        for i in range(len(tupla)): # Recorremos los elementos de la tupla\n",
    "            salida = salida + str(tupla[i]) #Concatenación de elementos dentro de la tupla\n",
    "        print (salida)"
   ]
  },
  {
   "cell_type": "code",
   "execution_count": 288,
   "metadata": {},
   "outputs": [
    {
     "name": "stdout",
     "output_type": "stream",
     "text": [
      "a56.466A1B2C348681hola\n"
     ]
    }
   ],
   "source": [
    "tupla = ('a', 56.466, 'A1B2C3', 48681, 'hola')\n",
    "ejercicio4(tupla)"
   ]
  },
  {
   "attachments": {},
   "cell_type": "markdown",
   "metadata": {},
   "source": [
    "### Ejercicio 5"
   ]
  },
  {
   "cell_type": "code",
   "execution_count": 290,
   "metadata": {},
   "outputs": [],
   "source": [
    "def ejercicio5(lista):\n",
    "    i = 0\n",
    "    while i < len(lista): # Recorremos la lista \n",
    "        if lista[i] == () or lista[i] == ' ': # Si detectamos algún vacío\n",
    "            lista.pop(i) # Se elimina de la lista\n",
    "        else:\n",
    "            i = i+1 # Si no hay vacío, continua revisando la lista\n",
    "    print(lista)"
   ]
  },
  {
   "cell_type": "code",
   "execution_count": 291,
   "metadata": {},
   "outputs": [
    {
     "name": "stdout",
     "output_type": "stream",
     "text": [
      "['X', ('a', 'b'), ('a', 'b', 'c'), 'd']\n"
     ]
    }
   ],
   "source": [
    "lista = [(), (), ('X'), ('a', 'b'), (),('a', 'b', 'c'), ('d')]\n",
    "ejercicio5(lista)"
   ]
  },
  {
   "attachments": {},
   "cell_type": "markdown",
   "metadata": {},
   "source": [
    "#### Ejercicio 6"
   ]
  },
  {
   "cell_type": "code",
   "execution_count": 317,
   "metadata": {},
   "outputs": [],
   "source": [
    "def ejercicio6(tupla):\n",
    "    promedio = []\n",
    "    for i in range(len(tupla)): # Recorremos la tupla\n",
    "        promedio.append(np.mean(tupla[i])) # Sacamos la media por cada tupla individual y lo agregamos a una lista\n",
    "    promedio = tuple(promedio) # convertimos la lista en tupla\n",
    "    print(promedio)"
   ]
  },
  {
   "cell_type": "code",
   "execution_count": 321,
   "metadata": {},
   "outputs": [
    {
     "name": "stdout",
     "output_type": "stream",
     "text": [
      "(10.5, 44.0, 58.0)\n"
     ]
    }
   ],
   "source": [
    "tupla2 = ((10,10,10,12), (30,45,56,45), (81,80,39,32))\n",
    "ejercicio6(tupla2)"
   ]
  },
  {
   "attachments": {},
   "cell_type": "markdown",
   "metadata": {},
   "source": [
    "#### Ejercicio 7"
   ]
  },
  {
   "cell_type": "code",
   "execution_count": 1,
   "metadata": {},
   "outputs": [],
   "source": [
    "factura = {} # Inicializamos nuestros diccionarios\n",
    "cobrado = {}"
   ]
  },
  {
   "cell_type": "code",
   "execution_count": 2,
   "metadata": {},
   "outputs": [
    {
     "name": "stdout",
     "output_type": "stream",
     "text": [
      "Saliendo\n"
     ]
    }
   ],
   "source": [
    "\n",
    "def añadir(factura): # Función para agregar una factura\n",
    "    numero = int(input(\"Ingrese el número de factura: \"))\n",
    "    costo = round(float(input(\"Ingrese el monto de la factura: \")),2)\n",
    "    if numero <= 9999:\n",
    "        factura[numero] = costo # agregamos al diccionario\n",
    "    else:\n",
    "      print(\"La factura debe tener 4 dígitos\")\n",
    "    return factura\n",
    "\n",
    "def pagar(factura): # función para pagar factura\n",
    "    numero = int(input(\"Ingrese el número de factura: \"))\n",
    "    if numero in factura:\n",
    "        cobrado[numero] = factura[numero] # guardamos la factura a pagar en otro diccionario\n",
    "        factura.pop(numero) # eliminamos la factura pagada\n",
    "    else:\n",
    "        print(\"La factura no existe\")\n",
    "    return factura, cobrado\n",
    "\n",
    "while True:\n",
    "    opcion = input(\"Escoja una opción:  1)Añadir factura  2)Pagar factura  3)Salir\") # pedimos al usuario una selección\n",
    "    if opcion == '1':\n",
    "        factura = añadir(factura) # llamamos a la función para añadir factura\n",
    "        print(factura)\n",
    "        print(\"Pendiente: {}\".format(sum([factura[numero] for numero in factura]))) # muestra el estado pendinte de pagar\n",
    "        print(\"Cobrado: {}\".format(sum([cobrado[numero] for numero in cobrado]))) # muestra el estado pagado\n",
    "    elif opcion == '2':\n",
    "        factura, cobrado = pagar(factura)  # llamamos a la función para pagar factura\n",
    "        print(factura)\n",
    "        print(\"Pendiente: {}\".format(sum([factura[numero] for numero in factura]))) # muestra el estado pendinte de pagar\n",
    "        print(\"Cobrado: {}\".format(sum([cobrado[numero] for numero in cobrado]))) # muestra el estado pagado\n",
    "    else:\n",
    "        print(\"Saliendo\")\n",
    "        break"
   ]
  },
  {
   "attachments": {},
   "cell_type": "markdown",
   "metadata": {},
   "source": [
    "#### Ejercicio 8"
   ]
  },
  {
   "cell_type": "code",
   "execution_count": 2,
   "metadata": {},
   "outputs": [],
   "source": [
    "def mazo(): # función para crear el mazo\n",
    "    a = ['T', 'C', 'P', 'E'] # lista con los palos\n",
    "    baraja = []\n",
    "    for i in range(len(a)):\n",
    "        for j in range(13): # por cada palo, asignamos un número del 1 al 13\n",
    "            carta = a[i] + str(j+1)\n",
    "            baraja.append(carta) # lo agregamos a la baraja\n",
    "    return baraja"
   ]
  },
  {
   "cell_type": "code",
   "execution_count": 3,
   "metadata": {},
   "outputs": [],
   "source": [
    "baraja = mazo()"
   ]
  },
  {
   "cell_type": "code",
   "execution_count": 4,
   "metadata": {},
   "outputs": [],
   "source": [
    "def corte():\n",
    "    n = len(baraja)\n",
    "    n1 = random.randint(1,n) # generamos un número aleatorio entre 1 y 52\n",
    "    n2 = random.randint(1, n-n1) # generamos un número aleatorio entre 1 y lo que sobra del primer corte\n",
    "\n",
    "    set1 = set(random.sample(baraja, n1)) # creamos nuestro primer set sin repetidas\n",
    "    set2 = set(random.sample(baraja, n2)) # creamos nuestro segundo set sin repetidas\n",
    "\n",
    "    return set1, set2"
   ]
  },
  {
   "cell_type": "code",
   "execution_count": 10,
   "metadata": {},
   "outputs": [
    {
     "data": {
      "text/plain": [
       "({'C12',\n",
       "  'C4',\n",
       "  'C6',\n",
       "  'C8',\n",
       "  'C9',\n",
       "  'E2',\n",
       "  'E4',\n",
       "  'E7',\n",
       "  'E9',\n",
       "  'P1',\n",
       "  'P11',\n",
       "  'P3',\n",
       "  'P4',\n",
       "  'P6',\n",
       "  'P9',\n",
       "  'T1',\n",
       "  'T13',\n",
       "  'T2',\n",
       "  'T3',\n",
       "  'T8'},\n",
       " {'C11', 'C12', 'C13', 'C3', 'E4', 'E6', 'E8', 'P13', 'P2', 'P8', 'T10', 'T6'})"
      ]
     },
     "execution_count": 10,
     "metadata": {},
     "output_type": "execute_result"
    }
   ],
   "source": [
    "set1, set2 = corte()\n",
    "\n",
    "set1, set2"
   ]
  },
  {
   "cell_type": "code",
   "execution_count": 13,
   "metadata": {},
   "outputs": [
    {
     "data": {
      "text/plain": [
       "{'C12', 'E4'}"
      ]
     },
     "execution_count": 13,
     "metadata": {},
     "output_type": "execute_result"
    }
   ],
   "source": [
    "set1.intersection(set2)"
   ]
  }
 ],
 "metadata": {
  "kernelspec": {
   "display_name": "PruebaClase",
   "language": "python",
   "name": "python3"
  },
  "language_info": {
   "codemirror_mode": {
    "name": "ipython",
    "version": 3
   },
   "file_extension": ".py",
   "mimetype": "text/x-python",
   "name": "python",
   "nbconvert_exporter": "python",
   "pygments_lexer": "ipython3",
   "version": "3.8.16"
  },
  "orig_nbformat": 4
 },
 "nbformat": 4,
 "nbformat_minor": 2
}
