{
 "cells": [
  {
   "attachments": {},
   "cell_type": "markdown",
   "metadata": {},
   "source": [
    "## Proyecto 1"
   ]
  },
  {
   "attachments": {},
   "cell_type": "markdown",
   "metadata": {},
   "source": [
    "Empezamos importando nuestras librerías"
   ]
  },
  {
   "cell_type": "code",
   "execution_count": 1,
   "metadata": {},
   "outputs": [],
   "source": [
    "import numpy as np\n",
    "import pandas as pd\n",
    "import seaborn as sb\n",
    "import matplotlib.pyplot as plt\n"
   ]
  },
  {
   "attachments": {},
   "cell_type": "markdown",
   "metadata": {},
   "source": [
    "Creamos la funcipón para la carga de datos. Aquí creamos nuestro dataframe, mezclamos su contenido y separamos nuestros datasets de entranamiento y y pruebas."
   ]
  },
  {
   "cell_type": "code",
   "execution_count": 2,
   "metadata": {},
   "outputs": [],
   "source": [
    "def cargaDatos():\n",
    "    df = pd.DataFrame(np.load('proyecto_training_data.npy'), columns= ['SalePrice', 'OverallQual', '1stFlrSF', 'TotRmsAbvGrd', 'YearBuilt', 'LotFrontage'])\n",
    "    df= df.sample(frac=1, ignore_index=True)\n",
    "    filas = len(df)\n",
    "    slicing = int(filas*0.8)\n",
    "    df_entre = df[:slicing]\n",
    "    df_prueba = df[slicing:]\n",
    "\n",
    "    return df, df_entre, df_prueba"
   ]
  },
  {
   "attachments": {},
   "cell_type": "markdown",
   "metadata": {},
   "source": [
    "Creamos una clase para nuestros nuevos dataframes y los almacenamos en un objeto para seguir trabajando con la misma data durante todo el desarrollo del programa"
   ]
  },
  {
   "cell_type": "code",
   "execution_count": 3,
   "metadata": {},
   "outputs": [],
   "source": [
    "class dataframes:\n",
    "    def __init__(self, df, df_entre, df_prueba):\n",
    "        self.df = df\n",
    "        self.df_entre = df_entre\n",
    "        self.df_prueba = df_prueba\n",
    "\n",
    "df, df_entre, df_prueba = cargaDatos()\n",
    "\n",
    "data = dataframes(df, df_entre, df_prueba)\n"
   ]
  },
  {
   "attachments": {},
   "cell_type": "markdown",
   "metadata": {},
   "source": [
    "Creamos la función para el análisis exploratorio de datos"
   ]
  },
  {
   "cell_type": "code",
   "execution_count": 4,
   "metadata": {},
   "outputs": [],
   "source": [
    "def analisis():\n",
    "    analisisExp = data.df_entre\n",
    "    analisisExp = analisisExp.describe().loc[['mean','max', 'min', 'std'],:] # extraemos las columnas deseadas\n",
    "    analisisExp = analisisExp.rename(index={'mean': 'Media','max':'Máximo', 'min':'Mínimo', 'std': 'Desviación estándar'})\n",
    "\n",
    "    rango = pd.DataFrame({ #generamos los rangos restando los máximos y mínimos\n",
    "            'SalePrice': [analisisExp['SalePrice'].max() - analisisExp['SalePrice'].min()],\n",
    "            'OverallQual': [analisisExp['OverallQual'].max() - analisisExp['OverallQual'].min()],\n",
    "            '1stFlrSF': [analisisExp['1stFlrSF'].max() - analisisExp['1stFlrSF'].min()],\n",
    "            'TotRmsAbvGrd': [analisisExp['TotRmsAbvGrd'].max() - analisisExp['TotRmsAbvGrd'].min()],\n",
    "            'YearBuilt': [analisisExp['YearBuilt'].max() - analisisExp['YearBuilt'].min()],\n",
    "            'LotFrontage': [analisisExp['LotFrontage'].max() - analisisExp['LotFrontage'].min()]},\n",
    "            index= ['Rango'])\n",
    "\n",
    "    analisisExp = pd.concat([analisisExp, rango])\n",
    "    analisisExp = analisisExp.loc[['Media','Máximo', 'Mínimo', 'Rango', 'Desviación estándar'],:] #cambiamos el orden de las columnas\n",
    "    return analisisExp\n"
   ]
  },
  {
   "attachments": {},
   "cell_type": "markdown",
   "metadata": {},
   "source": [
    "Función para generar histogramas"
   ]
  },
  {
   "cell_type": "code",
   "execution_count": 5,
   "metadata": {},
   "outputs": [],
   "source": [
    "def histogramas():\n",
    "    for columna in data.df_entre.columns:\n",
    "        sb.histplot(data.df_entre[columna], color='green').set(title=f'Histograma de {columna}', xlabel=columna, ylabel='Frecuencia')\n",
    "        plt.show()"
   ]
  },
  {
   "attachments": {},
   "cell_type": "markdown",
   "metadata": {},
   "source": [
    "Función para calcular la correlación entre variables"
   ]
  },
  {
   "cell_type": "code",
   "execution_count": 50,
   "metadata": {},
   "outputs": [],
   "source": [
    "def correlacion():\n",
    "    corr = data.df_entre.corr() #correlacion\n",
    "    mask = np.zeros_like(corr, dtype=bool) #mascara para ocultar los datos duplicados en el mapa de calor\n",
    "    mask[np.triu_indices_from(mask)] = True\n",
    "    f, ax = plt.subplots(figsize=(9, 7))\n",
    "    sb.heatmap(corr, annot=True, cmap='Greens', mask=mask, vmax=0.8, vmin=0, square=True, linewidths=.8).set_title('Correlación entre columnas')\n",
    "    plt.show()"
   ]
  },
  {
   "attachments": {},
   "cell_type": "markdown",
   "metadata": {},
   "source": [
    "Función para graficar la disperción de las variables"
   ]
  },
  {
   "cell_type": "code",
   "execution_count": 78,
   "metadata": {},
   "outputs": [],
   "source": [
    "def scatterplot():\n",
    "    cols = data.df_entre.columns\n",
    "    for i, a in enumerate(cols): #iteración de columna a\n",
    "        for j, b in enumerate(cols): #iteración de columna b\n",
    "            if i >= j: #condición para evitar gráficas duplicadas\n",
    "                continue\n",
    "            x = data.df_entre[a]\n",
    "            y = data.df_entre[b]\n",
    "            corr = round(x.corr(y), 2)\n",
    "            title = f'Scatterplot de {a} vs {b} (Correlación: {corr})'\n",
    "\n",
    "            plt.figure()\n",
    "            plt.scatter(x, y, c='green', s=10,marker='.')\n",
    "            plt.title(title)\n",
    "            plt.xlabel(a)\n",
    "            plt.ylabel(b)\n",
    "            plt.show()"
   ]
  },
  {
   "attachments": {},
   "cell_type": "markdown",
   "metadata": {},
   "source": [
    "Elegimos nuestras variables independientes 'OverallQual' y '1stFlrSF' y como variable independiente 'SalePrice', ya que son las que más correlación tienen con el precio de venta. Lo cuál es lógico porque el precio de venta puede cambiar por la calificación que le den a la casa y el metraje de la misma."
   ]
  },
  {
   "cell_type": "code",
   "execution_count": null,
   "metadata": {},
   "outputs": [],
   "source": []
  }
 ],
 "metadata": {
  "kernelspec": {
   "display_name": "proyecto1",
   "language": "python",
   "name": "python3"
  },
  "language_info": {
   "codemirror_mode": {
    "name": "ipython",
    "version": 3
   },
   "file_extension": ".py",
   "mimetype": "text/x-python",
   "name": "python",
   "nbconvert_exporter": "python",
   "pygments_lexer": "ipython3",
   "version": "3.8.16"
  },
  "orig_nbformat": 4
 },
 "nbformat": 4,
 "nbformat_minor": 2
}
