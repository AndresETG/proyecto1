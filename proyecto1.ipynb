{
 "cells": [
  {
   "attachments": {},
   "cell_type": "markdown",
   "metadata": {},
   "source": [
    "## Proyecto 1"
   ]
  },
  {
   "attachments": {},
   "cell_type": "markdown",
   "metadata": {},
   "source": [
    "Empezamos importando nuestras librerías"
   ]
  },
  {
   "cell_type": "code",
   "execution_count": 1,
   "metadata": {},
   "outputs": [],
   "source": [
    "import numpy as np\n",
    "import pandas as pd\n",
    "import seaborn as sb"
   ]
  },
  {
   "attachments": {},
   "cell_type": "markdown",
   "metadata": {},
   "source": [
    "Creamos la funcipón para la carga de datos. Aquí creamos nuestro dataframe, mezclamos su contenido y separamos nuestros datasets de entranamiento y y pruebas."
   ]
  },
  {
   "cell_type": "code",
   "execution_count": 18,
   "metadata": {},
   "outputs": [],
   "source": [
    "def cargaDatos():\n",
    "    df = pd.DataFrame(np.load('proyecto_training_data.npy'), columns= ['SalePrice', 'OverallQual', '1stFlrSF', 'TotRmsAbvGrd', 'YearBuilt', 'LotFrontage'])\n",
    "    df= df.sample(frac=1, ignore_index=True)\n",
    "    filas = len(df)\n",
    "    slicing = int(filas*0.8)\n",
    "    df_entre = df[:slicing]\n",
    "    df_prueba = df[slicing:]\n",
    "\n",
    "    return df, df_entre, df_prueba"
   ]
  },
  {
   "attachments": {},
   "cell_type": "markdown",
   "metadata": {},
   "source": [
    "Creamos la función para el análisis exploratorio de datos"
   ]
  },
  {
   "cell_type": "code",
   "execution_count": 147,
   "metadata": {},
   "outputs": [],
   "source": [
    "def analisis():\n",
    "    analisisExp = cargaDatos()[1]\n",
    "    analisisExp = analisisExp.describe().loc[['mean','max', 'min', 'std'],:]\n",
    "    analisisExp = analisisExp.rename(index={'mean': 'Media','max':'Máximo', 'min':'Mínimo', 'std': 'Desviación estándar'})\n",
    "\n",
    "    rango = pd.DataFrame({\n",
    "            'SalePrice': [analisisExp['SalePrice'].max() - analisisExp['SalePrice'].min()],\n",
    "            'OverallQual': [analisisExp['OverallQual'].max() - analisisExp['OverallQual'].min()],\n",
    "            '1stFlrSF': [analisisExp['1stFlrSF'].max() - analisisExp['1stFlrSF'].min()],\n",
    "            'TotRmsAbvGrd': [analisisExp['TotRmsAbvGrd'].max() - analisisExp['TotRmsAbvGrd'].min()],\n",
    "            'YearBuilt': [analisisExp['YearBuilt'].max() - analisisExp['YearBuilt'].min()],\n",
    "            'LotFrontage': [analisisExp['LotFrontage'].max() - analisisExp['LotFrontage'].min()]},\n",
    "            index= ['Rango'])\n",
    "\n",
    "    analisisExp = pd.concat([analisisExp, rango])\n",
    "    analisisExp = analisisExp.loc[['Media','Máximo', 'Mínimo', 'Rango', 'Desviación estándar'],:]\n",
    "    return analisisExp\n"
   ]
  },
  {
   "cell_type": "code",
   "execution_count": 148,
   "metadata": {},
   "outputs": [
    {
     "data": {
      "text/html": [
       "<div>\n",
       "<style scoped>\n",
       "    .dataframe tbody tr th:only-of-type {\n",
       "        vertical-align: middle;\n",
       "    }\n",
       "\n",
       "    .dataframe tbody tr th {\n",
       "        vertical-align: top;\n",
       "    }\n",
       "\n",
       "    .dataframe thead th {\n",
       "        text-align: right;\n",
       "    }\n",
       "</style>\n",
       "<table border=\"1\" class=\"dataframe\">\n",
       "  <thead>\n",
       "    <tr style=\"text-align: right;\">\n",
       "      <th></th>\n",
       "      <th>SalePrice</th>\n",
       "      <th>OverallQual</th>\n",
       "      <th>1stFlrSF</th>\n",
       "      <th>TotRmsAbvGrd</th>\n",
       "      <th>YearBuilt</th>\n",
       "      <th>LotFrontage</th>\n",
       "    </tr>\n",
       "  </thead>\n",
       "  <tbody>\n",
       "    <tr>\n",
       "      <th>Media</th>\n",
       "      <td>179484.005137</td>\n",
       "      <td>6.087329</td>\n",
       "      <td>1160.608733</td>\n",
       "      <td>6.491438</td>\n",
       "      <td>1971.598459</td>\n",
       "      <td>69.641588</td>\n",
       "    </tr>\n",
       "    <tr>\n",
       "      <th>Máximo</th>\n",
       "      <td>755000.000000</td>\n",
       "      <td>10.000000</td>\n",
       "      <td>4692.000000</td>\n",
       "      <td>14.000000</td>\n",
       "      <td>2010.000000</td>\n",
       "      <td>313.000000</td>\n",
       "    </tr>\n",
       "    <tr>\n",
       "      <th>Mínimo</th>\n",
       "      <td>35311.000000</td>\n",
       "      <td>1.000000</td>\n",
       "      <td>334.000000</td>\n",
       "      <td>2.000000</td>\n",
       "      <td>1872.000000</td>\n",
       "      <td>21.000000</td>\n",
       "    </tr>\n",
       "    <tr>\n",
       "      <th>Rango</th>\n",
       "      <td>719689.000000</td>\n",
       "      <td>9.000000</td>\n",
       "      <td>4358.000000</td>\n",
       "      <td>12.380201</td>\n",
       "      <td>1979.862658</td>\n",
       "      <td>292.000000</td>\n",
       "    </tr>\n",
       "    <tr>\n",
       "      <th>Desviación estándar</th>\n",
       "      <td>77251.278291</td>\n",
       "      <td>1.396253</td>\n",
       "      <td>393.333357</td>\n",
       "      <td>1.619799</td>\n",
       "      <td>30.137342</td>\n",
       "      <td>24.345793</td>\n",
       "    </tr>\n",
       "  </tbody>\n",
       "</table>\n",
       "</div>"
      ],
      "text/plain": [
       "                         SalePrice  OverallQual     1stFlrSF  TotRmsAbvGrd  \\\n",
       "Media                179484.005137     6.087329  1160.608733      6.491438   \n",
       "Máximo               755000.000000    10.000000  4692.000000     14.000000   \n",
       "Mínimo                35311.000000     1.000000   334.000000      2.000000   \n",
       "Rango                719689.000000     9.000000  4358.000000     12.380201   \n",
       "Desviación estándar   77251.278291     1.396253   393.333357      1.619799   \n",
       "\n",
       "                       YearBuilt  LotFrontage  \n",
       "Media                1971.598459    69.641588  \n",
       "Máximo               2010.000000   313.000000  \n",
       "Mínimo               1872.000000    21.000000  \n",
       "Rango                1979.862658   292.000000  \n",
       "Desviación estándar    30.137342    24.345793  "
      ]
     },
     "execution_count": 148,
     "metadata": {},
     "output_type": "execute_result"
    }
   ],
   "source": [
    "analisis()"
   ]
  },
  {
   "cell_type": "code",
   "execution_count": null,
   "metadata": {},
   "outputs": [],
   "source": []
  }
 ],
 "metadata": {
  "kernelspec": {
   "display_name": "proyecto1",
   "language": "python",
   "name": "python3"
  },
  "language_info": {
   "codemirror_mode": {
    "name": "ipython",
    "version": 3
   },
   "file_extension": ".py",
   "mimetype": "text/x-python",
   "name": "python",
   "nbconvert_exporter": "python",
   "pygments_lexer": "ipython3",
   "version": "3.8.16"
  },
  "orig_nbformat": 4
 },
 "nbformat": 4,
 "nbformat_minor": 2
}
